{
 "cells": [
  {
   "cell_type": "code",
   "execution_count": 6,
   "metadata": {},
   "outputs": [],
   "source": [
    "import requests\n",
    "from bs4 import BeautifulSoup\n",
    "import pandas as pd\n",
    "\n",
    "urlGoal = \"https://www.goal.com/id\"\n",
    "responseGoal = requests.request(\"GET\", urlGoal).text\n",
    "Goals = BeautifulSoup(responseGoal, \"html.parser\")\n",
    "\n",
    "urlPandit = \"https://www.panditfootball.com\"\n",
    "responsePandit = requests.request(\"GET\", urlPandit).text\n",
    "Pandits = BeautifulSoup(responsePandit, \"html.parser\")\n",
    "\n",
    "urlBola = \"https://www.bola.com\"\n",
    "responseBola = requests.request(\"GET\", urlBola).text\n",
    "Bolas = BeautifulSoup(responseBola, \"html.parser\")\n",
    "\n",
    "urlDetik = \"https://sport.detik.com/?tag_from=wp_sepakbola_firstnav_detikSport\"\n",
    "responseDetik = requests.request(\"GET\", urlDetik).text\n",
    "Detiks = BeautifulSoup(responseDetik, \"html.parser\")"
   ]
  },
  {
   "cell_type": "code",
   "execution_count": 7,
   "metadata": {},
   "outputs": [],
   "source": [
    "semuaGoal = Goals.find_all('table', attrs={'class':'widget-news-card card-type-article'}, limit=10)\n",
    "DataGoal = []\n",
    "\n",
    "for Goal in semuaGoal:\n",
    "    dataGoalFix = {}\n",
    "    linkGoal = Goal.find('td', attrs={'class':'widget-news-card__image'})\n",
    "    judulGoal = Goal.find('td', attrs={'class':'widget-news-card__content'})\n",
    "    tanggalGoal = judulGoal.find('div', attrs={'class':'widget-news-card__date'}).text\n",
    "    dataGoalFix[\"waktu\"] = tanggalGoal\n",
    "    judulGoal = judulGoal.find('h3', attrs={'class':'widget-news-card__title'})\n",
    "    link = linkGoal.find('a', href=True)\n",
    "    foto = linkGoal.find('img')\n",
    "    judul = judulGoal.find('a').text\n",
    "    dataGoalFix[\"link\"] = \"goal.com\" + link['href']\n",
    "    dataGoalFix[\"foto\"] = foto['src']\n",
    "    dataGoalFix[\"judul\"] = judul\n",
    "    dataGoalFix[\"source\"] = 'https://www.goal.com/id'\n",
    "    DataGoal.append(dataGoalFix)\n",
    "pd.DataFrame.from_dict(DataGoal).to_csv(\"dataGoal.csv\", index=False)"
   ]
  },
  {
   "cell_type": "code",
   "execution_count": 8,
   "metadata": {},
   "outputs": [],
   "source": [
    "semuaPandit = Pandits.find_all('article', attrs={'class':'news-block small-block'}, limit=10)\n",
    "DataPandit = []\n",
    "\n",
    "for Pandit in semuaPandit:\n",
    "    dataPanditFix = {}\n",
    "    linkPandit = Pandit.find('a', attrs={'class':'overlay-link'}, href=True)\n",
    "    fotoPandit = Pandit.find('img', attrs={'style':'max-height:200px;'})\n",
    "    judulPandit = Pandit.find('h3')\n",
    "    judulPandit = judulPandit.find('a').text\n",
    "    waktuPandit = Pandit.find('p').text\n",
    "    dataPanditFix[\"waktu\"] = waktuPandit.strip().replace(\"/\", \"-\") + \":00\"\n",
    "    dataPanditFix[\"link\"] = linkPandit['href']\n",
    "    dataPanditFix[\"foto\"] = fotoPandit['src']\n",
    "    dataPanditFix[\"judul\"] = judulPandit.strip()\n",
    "    dataPanditFix[\"source\"] = \"https://www.panditfootball.com\"\n",
    "    DataPandit.append(dataPanditFix)\n",
    "pd.DataFrame.from_dict(DataPandit).to_csv(\"dataPandit.csv\", index=False)"
   ]
  },
  {
   "cell_type": "code",
   "execution_count": 9,
   "metadata": {},
   "outputs": [],
   "source": [
    "semuaBola = Bolas.find_all('li', attrs={'class':'headline--bottom-slider__item'})\n",
    "DataBola = []\n",
    "\n",
    "for Bola in semuaBola:\n",
    "    dataBolaFix = {}\n",
    "    linkBola = Bola.find('a', attrs={'class':'ui--a headline--bottom-slider__link'}, href=True)\n",
    "    fotoBola = Bola.find('img', attrs={'class':'small-img'})\n",
    "    judulBola = Bola.find('div', attrs={'class':'headline--bottom-slider__item_title'}).text\n",
    "    waktuBola = Bola.find('time', attrs={'class':'headline--bottom-slider__item_timestamp timeago'})\n",
    "    dataBolaFix[\"waktu\"] = waktuBola['datetime'].replace('T', \" \")[:19]\n",
    "    dataBolaFix[\"link\"] = linkBola['href']\n",
    "    dataBolaFix[\"foto\"] = fotoBola['src']\n",
    "    dataBolaFix[\"judul\"] = judulBola\n",
    "    dataBolaFix[\"source\"] = \"https://www.bola.com\"\n",
    "    DataBola.append(dataBolaFix)\n",
    "pd.DataFrame.from_dict(DataBola).to_csv(\"dataBola.csv\", index=False)"
   ]
  },
  {
   "cell_type": "code",
   "execution_count": 10,
   "metadata": {},
   "outputs": [],
   "source": [
    "semuaDetik = Detiks.find_all('article', attrs={'class':'gtm_newsfeed_artikel'}, limit=20)\n",
    "DataDetik = []\n",
    "\n",
    "for Detik in semuaDetik:\n",
    "    dataDetikFix = {}\n",
    "    linkDetikSepakbola = Detik.find('div', attrs={'class':'img_con lqd'})\n",
    "    linkDetik = linkDetikSepakbola.find('a', href=True)\n",
    "    link = linkDetik['href'].find('sepakbola')\n",
    "    if (link != -1):\n",
    "        waktuDetik = Detik.find('span', attrs={'class':'labdate f11'}).text.replace(\" WIB\", \"\")\n",
    "        dataDetikFix[\"waktu\"] = waktuDetik[36:].strip() + \":00\"\n",
    "        dataDetikFix[\"link\"] = linkDetik['href']\n",
    "        fotoDetik = linkDetikSepakbola.find('img')\n",
    "        dataDetikFix[\"foto\"] = fotoDetik['src']\n",
    "        judulDetik = Detik.find('h2').text\n",
    "        dataDetikFix[\"judul\"] = judulDetik\n",
    "        dataDetikFix[\"source\"] = \"sport.detik.com\"\n",
    "        DataDetik.append(detailDetik)\n",
    "pd.DataFrame.from_dict(DataDetik).to_csv(\"dataDetik.csv\", index=False)"
   ]
  },
  {
   "cell_type": "code",
   "execution_count": null,
   "metadata": {},
   "outputs": [],
   "source": []
  }
 ],
 "metadata": {
  "kernelspec": {
   "display_name": "Python 3",
   "language": "python",
   "name": "python3"
  },
  "language_info": {
   "codemirror_mode": {
    "name": "ipython",
    "version": 3
   },
   "file_extension": ".py",
   "mimetype": "text/x-python",
   "name": "python",
   "nbconvert_exporter": "python",
   "pygments_lexer": "ipython3",
   "version": "3.8.5"
  }
 },
 "nbformat": 4,
 "nbformat_minor": 4
}
